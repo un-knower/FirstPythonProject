{
 "cells": [
  {
   "cell_type": "code",
   "execution_count": 7,
   "metadata": {
    "collapsed": false
   },
   "outputs": [
    {
     "name": "stdout",
     "output_type": "stream",
     "text": [
      "(569L, 30L)\n"
     ]
    }
   ],
   "source": [
    "# 良恶性肿瘤线性分类\n",
    "\n",
    "# 模型对比：\n",
    "# LogisticRegression （相对SGDClassififer来讲，数据量小一点的话，模型性能会高一点）\n",
    "# SGDClassifier （相对LogisticRegression来讲，数据量大一点的话，模型性能会高一点）\n",
    "\n",
    "import pandas as pd\n",
    "import numpy as np\n",
    "from sklearn.datasets import load_breast_cancer\n",
    "\n",
    "breast_cancer = load_breast_cancer()\n",
    "\n",
    "print breast_cancer.data.shape\n"
   ]
  },
  {
   "cell_type": "code",
   "execution_count": 10,
   "metadata": {
    "collapsed": false
   },
   "outputs": [
    {
     "name": "stdout",
     "output_type": "stream",
     "text": [
      "(699, 11)\n"
     ]
    }
   ],
   "source": [
    "# 创建特征列表。\n",
    "column_names = ['Sample code number', 'Clump Thickness', 'Uniformity of Cell Size', 'Uniformity of Cell Shape', 'Marginal Adhesion', 'Single Epithelial Cell Size', 'Bare Nuclei', 'Bland Chromatin', 'Normal Nucleoli', 'Mitoses', 'Class']\n",
    "\n",
    "# 使用pandas.read_csv函数从互联网读取指定数据。\n",
    "data = pd.read_csv(\"http://archive.ics.uci.edu/ml/machine-learning-databases/breast-cancer-wisconsin/breast-cancer-wisconsin.data\", names = column_names )\n",
    "print data.shape"
   ]
  },
  {
   "cell_type": "code",
   "execution_count": 11,
   "metadata": {
    "collapsed": false
   },
   "outputs": [
    {
     "data": {
      "text/plain": [
       "(683, 11)"
      ]
     },
     "execution_count": 11,
     "metadata": {},
     "output_type": "execute_result"
    }
   ],
   "source": [
    "# 将?替换为标准缺失值表示\n",
    "data = data.replace(to_replace='?', value=np.nan)\n",
    "\n",
    "#丢弃带有缺失值的样本数据，(只要有任意一列数据缺失就丢弃)\n",
    "data = data.dropna(how='any')\n",
    "\n",
    "#丢弃了16个样本数据\n",
    "data.shape"
   ]
  },
  {
   "cell_type": "code",
   "execution_count": 24,
   "metadata": {
    "collapsed": false
   },
   "outputs": [
    {
     "name": "stdout",
     "output_type": "stream",
     "text": [
      "('Accuracy of LR Classifier:', 0.98830409356725146)\n",
      "('Accuracy of SGDC Classifier:', 0.97660818713450293)\n"
     ]
    }
   ],
   "source": [
    "from sklearn.preprocessing import StandardScaler\n",
    "from sklearn.linear_model import LogisticRegression\n",
    "from sklearn.linear_model import SGDClassifier\n",
    "\n",
    "# 分割训练集与测试集\n",
    "from sklearn.cross_validation import train_test_split\n",
    "\n",
    "# 随机采样25%的数据用于测试，75%用于训练\n",
    "X_train, X_test, y_train, y_test = train_test_split(data[column_names[1:10]], data[column_names[10]], test_size=0.25, random_state=33)\n",
    "\n",
    "# 标准化数据，保证每个维度的特征数据方差为1，均值为0。使得预测结果不会被某些维度过大的特征值而主导\n",
    "ss = StandardScaler()\n",
    "X_train = ss.fit_transform(X_train)  #实际上是调用了 fit 跟transform，已经调用了fit，在标准化测试数据时就可以不用调用了\n",
    "X_test = ss.transform(X_test)\n",
    "\n",
    "# 初始化模型\n",
    "lr = LogisticRegression()\n",
    "\n",
    "#随机梯度下降\n",
    "sgdc  = SGDClassifier() \n",
    "\n",
    "# 使用fit训练逻辑回归模型,并预测\n",
    "lr.fit(X_train, y_train)\n",
    "lr_y_predict = lr.predict(X_test)\n",
    "\n",
    "\n",
    "# 使用fit训练逻辑回归模型,并预测\n",
    "sgdc.fit(X_train, y_train)\n",
    "sgdc_y_predict = sgdc.predict(X_test)\n",
    "\n",
    "# 计算模型的准确性\n",
    "print('Accuracy of LR Classifier:',lr.score(X_test, y_test))\n",
    "print('Accuracy of SGDC Classifier:',sgdc.score(X_test, y_test))"
   ]
  },
  {
   "cell_type": "code",
   "execution_count": 25,
   "metadata": {
    "collapsed": false
   },
   "outputs": [
    {
     "name": "stdout",
     "output_type": "stream",
     "text": [
      "逻辑回归模型的指标数据：\n",
      "             precision    recall  f1-score   support\n",
      "\n",
      "     良性       0.99      0.99      0.99       100\n",
      "     恶性       0.99      0.99      0.99        71\n",
      "\n",
      "avg / total       0.99      0.99      0.99       171\n",
      "\n",
      "梯度下降模型的指标数据：\n",
      "             precision    recall  f1-score   support\n",
      "\n",
      "     良性       0.97      0.99      0.98       100\n",
      "     恶性       0.99      0.96      0.97        71\n",
      "\n",
      "avg / total       0.98      0.98      0.98       171\n",
      "\n"
     ]
    }
   ],
   "source": [
    "# 分别计算模型的其它评估指标\n",
    "from sklearn.metrics import classification_report\n",
    "print '逻辑回归模型的指标数据：'\n",
    "print(classification_report(y_test, lr_y_predict, target_names=['良性','恶性']))\n",
    "\n",
    "print '梯度下降模型的指标数据：'\n",
    "print(classification_report(y_test, sgdc_y_predict, target_names=['良性','恶性']))\n"
   ]
  },
  {
   "cell_type": "code",
   "execution_count": null,
   "metadata": {
    "collapsed": true
   },
   "outputs": [],
   "source": []
  }
 ],
 "metadata": {
  "anaconda-cloud": {},
  "kernelspec": {
   "display_name": "Python [conda root]",
   "language": "python",
   "name": "conda-root-py"
  },
  "language_info": {
   "codemirror_mode": {
    "name": "ipython",
    "version": 3
   },
   "file_extension": ".py",
   "mimetype": "text/x-python",
   "name": "python",
   "nbconvert_exporter": "python",
   "pygments_lexer": "ipython3",
   "version": "3.5.2"
  }
 },
 "nbformat": 4,
 "nbformat_minor": 1
}
