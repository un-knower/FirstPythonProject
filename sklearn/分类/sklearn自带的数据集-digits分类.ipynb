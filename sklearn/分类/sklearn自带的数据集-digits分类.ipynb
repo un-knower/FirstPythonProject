{
 "cells": [
  {
   "cell_type": "code",
   "execution_count": 1,
   "metadata": {
    "collapsed": false
   },
   "outputs": [
    {
     "name": "stdout",
     "output_type": "stream",
     "text": [
      "(1797L, 64L)\n"
     ]
    }
   ],
   "source": [
    "# 手写数字分类\n",
    "# 模型：LinearSVC （线性支持向量机）\n",
    "# sklearn自带的数据集-digits\n",
    "from sklearn.datasets import load_digits\n",
    "\n",
    "# 通过数据加载器获得手写数字的数码图像数据并存在digits变量中\n",
    "digits = load_digits()\n",
    "\n",
    "# 查看数据维度\n",
    "print(digits.data.shape)\n",
    "\n"
   ]
  },
  {
   "cell_type": "code",
   "execution_count": 3,
   "metadata": {
    "collapsed": false
   },
   "outputs": [
    {
     "name": "stdout",
     "output_type": "stream",
     "text": [
      "('The accuracy of Linear SVC is', 0.95333333333333337)\n",
      "             precision    recall  f1-score   support\n",
      "\n",
      "          0       0.92      1.00      0.96        35\n",
      "          1       0.96      0.98      0.97        54\n",
      "          2       0.98      1.00      0.99        44\n",
      "          3       0.93      0.93      0.93        46\n",
      "          4       0.97      1.00      0.99        35\n",
      "          5       0.94      0.94      0.94        48\n",
      "          6       0.96      0.98      0.97        51\n",
      "          7       0.92      1.00      0.96        35\n",
      "          8       0.98      0.84      0.91        58\n",
      "          9       0.95      0.91      0.93        44\n",
      "\n",
      "avg / total       0.95      0.95      0.95       450\n",
      "\n"
     ]
    }
   ],
   "source": [
    "# 从sklearn.cross_validation中导入train_test_split 用于切割数据\n",
    "from sklearn.cross_validation import train_test_split\n",
    "\n",
    "# 随机选取75%作为训练样本，25%作为测试样本\n",
    "# train_test_split参数说明(数据源,lable值,测试数据占比,随机值)\n",
    "X_train, X_test, y_train, y_test = train_test_split(digits.data, digits.target, test_size=0.25, random_state=33)\n",
    "\n",
    "# 从sklearn.preprocessing中导入标准化模块 StandardScaler\n",
    "from sklearn.preprocessing import StandardScaler\n",
    "\n",
    "# 从sklearn.svm中导入基于线性假设的支持向量机分类器LinearSVC\n",
    "from sklearn.svm import LinearSVC\n",
    "ss = StandardScaler()\n",
    "\n",
    "# 对数据进行标准化\n",
    "X_train = ss.fit_transform(X_train)\n",
    "X_test = ss.transform(X_test)\n",
    "\n",
    "# 初始化并训练模型\n",
    "lsvc = LinearSVC()\n",
    "lsvc.fit(X_train, y_train)\n",
    "\n",
    "# 对测试数据进行预测\n",
    "y_predict = lsvc.predict(X_test)\n",
    "\n",
    "print('The accuracy of Linear SVC is', lsvc.score(X_test, y_test))\n",
    "\n",
    "# 使用sklearn.metrics里的classification_report模型计算 精确率跟召回率\n",
    "from sklearn.metrics import classification_report\n",
    "print(classification_report(y_test, y_predict, target_names=digits.target_names.astype(str)))\n"
   ]
  },
  {
   "cell_type": "code",
   "execution_count": null,
   "metadata": {
    "collapsed": true
   },
   "outputs": [],
   "source": []
  },
  {
   "cell_type": "code",
   "execution_count": null,
   "metadata": {
    "collapsed": true
   },
   "outputs": [],
   "source": []
  },
  {
   "cell_type": "code",
   "execution_count": null,
   "metadata": {
    "collapsed": true
   },
   "outputs": [],
   "source": []
  },
  {
   "cell_type": "code",
   "execution_count": null,
   "metadata": {
    "collapsed": true
   },
   "outputs": [],
   "source": []
  },
  {
   "cell_type": "code",
   "execution_count": null,
   "metadata": {
    "collapsed": true
   },
   "outputs": [],
   "source": []
  }
 ],
 "metadata": {
  "kernelspec": {
   "display_name": "Python [conda root]",
   "language": "python",
   "name": "conda-root-py"
  },
  "language_info": {
   "codemirror_mode": {
    "name": "ipython",
    "version": 2
   },
   "file_extension": ".py",
   "mimetype": "text/x-python",
   "name": "python",
   "nbconvert_exporter": "python",
   "pygments_lexer": "ipython2",
   "version": "2.7.12"
  }
 },
 "nbformat": 4,
 "nbformat_minor": 1
}
