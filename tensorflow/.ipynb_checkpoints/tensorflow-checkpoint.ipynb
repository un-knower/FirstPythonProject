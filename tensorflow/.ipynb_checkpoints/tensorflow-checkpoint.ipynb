{
 "cells": [
  {
   "cell_type": "code",
   "execution_count": 1,
   "metadata": {
    "collapsed": false
   },
   "outputs": [
    {
     "name": "stdout",
     "output_type": "stream",
     "text": [
      "b' Hello TensorFlow !'\n"
     ]
    }
   ],
   "source": [
    "import tensorflow as tf\n",
    "\n",
    "# 使用TensorFlow输出Hello\n",
    "\n",
    "# 创建一个常量操作( Constant op )\n",
    "# 这个 op 会被作为一个节点( node )添加到默认计算图上.\n",
    "#\n",
    "# 该构造函数返回的值就是常量节点(Constant op)的输出.\n",
    "hello = tf.constant(' Hello TensorFlow !')\n",
    "\n",
    "# 启动tensorflow会话\n",
    "sess = tf.Session()\n",
    "\n",
    "#运行hello节点\n",
    "print(sess.run(hello))"
   ]
  },
  {
   "cell_type": "code",
   "execution_count": 2,
   "metadata": {
    "collapsed": false
   },
   "outputs": [
    {
     "name": "stdout",
     "output_type": "stream",
     "text": [
      "a=2, b=3\n",
      "常量节点相加：5\n",
      "常量节点相乘：6\n",
      "变量相加：5\n",
      "变量相乘：6\n"
     ]
    }
   ],
   "source": [
    "# 常量操作\n",
    "a = tf.constant(2)\n",
    "b = tf.constant(3)\n",
    "\n",
    "# 启动默认计算图\n",
    "with tf.Session() as sess: # 控制sess范围\n",
    "    print(\"a=2, b=3\")\n",
    "    print(\"常量节点相加：%i\" % sess.run(a + b))\n",
    "    print(\"常量节点相乘：%i\" % sess.run(a * b))\n",
    "\n",
    "# 使用变量Variable 作为计算图的输入\n",
    "# 构造函数返回的值代表了Variable op的输出\n",
    "a = tf.placeholder(tf.int16)\n",
    "b = tf.placeholder(tf.int16)\n",
    "\n",
    "\n",
    "# 定义一些操作\n",
    "add = tf.add(a, b)\n",
    "mul = tf.multiply(a, b)\n",
    "\n",
    "# 启动默认会话\n",
    "with tf.Session() as sess:\n",
    "    print(\"变量相加：%i\" % sess.run(add, feed_dict={a: 2, b: 3}))\n",
    "    print(\"变量相乘：%i\" % sess.run(mul, feed_dict={a: 2, b: 3}))"
   ]
  },
  {
   "cell_type": "code",
   "execution_count": 4,
   "metadata": {
    "collapsed": false
   },
   "outputs": [
    {
     "name": "stdout",
     "output_type": "stream",
     "text": [
      "矩阵相乘的结果： [[ 12.]]\n"
     ]
    }
   ],
   "source": [
    "# 矩阵相乘(Matrix Multiplication)\n",
    "# 创建一个Constant op, 产生1*2 matrix\n",
    "# 该op作为一个节点被加入到默认的计算图\n",
    "matrix1 = tf.constant([[3., 3.]])\n",
    "\n",
    "#创建一个Constant op 产生2*1矩阵\n",
    "matrix2 = tf.constant([[2.],[2.]])\n",
    "\n",
    "# 创建一个Matmul op 以 matrix1 和 matrix2 作为输入\n",
    "# 返回的值 product表达了矩阵的相乘结果\n",
    "product = tf.matmul(matrix1, matrix2)\n",
    "\n",
    "# 调用 run(product) 就会引起计算图上三个节点的执行，2个constants 和一个 matmul\n",
    "# produce op的输出会返回到result 一个numpy ndarray对象\n",
    "with tf.Session() as sess:\n",
    "    result = sess.run(product)\n",
    "    print('矩阵相乘的结果：',result)\n",
    "    \n",
    "# 保存计算图\n",
    "writer = tf.summary.FileWriter(logdir='logs', graph=tf.get_default_graph())\n",
    "writer.flush()"
   ]
  },
  {
   "cell_type": "code",
   "execution_count": null,
   "metadata": {
    "collapsed": true
   },
   "outputs": [],
   "source": []
  },
  {
   "cell_type": "code",
   "execution_count": 2,
   "metadata": {
    "collapsed": false
   },
   "outputs": [
    {
     "name": "stdout",
     "output_type": "stream",
     "text": [
      "Tensor(\"Const:0\", shape=(), dtype=float32) Tensor(\"Const_1:0\", shape=(), dtype=float32)\n"
     ]
    }
   ],
   "source": [
    "\n",
    "# 常量操作\n",
    "import tensorflow as tf\n",
    "\n",
    "node1 = tf.constant(3.0, dtype=tf.float32)\n",
    "node2 = tf.constant(4.0)\n",
    "\n",
    "print(node1,node2)"
   ]
  },
  {
   "cell_type": "code",
   "execution_count": 3,
   "metadata": {
    "collapsed": false
   },
   "outputs": [
    {
     "name": "stdout",
     "output_type": "stream",
     "text": [
      "Tensor(\"Add:0\", shape=(), dtype=float32)\n",
      "run: 7.0\n"
     ]
    }
   ],
   "source": [
    "node3 = tf.add(node1,node2)\n",
    "\n",
    "print(node3)\n",
    "print(\"run:\",tf.Session().run(node3))"
   ]
  },
  {
   "cell_type": "code",
   "execution_count": 5,
   "metadata": {
    "collapsed": false
   },
   "outputs": [
    {
     "name": "stdout",
     "output_type": "stream",
     "text": [
      "7.5\n",
      "[ 4.  6.]\n",
      "22.5\n"
     ]
    }
   ],
   "source": [
    "\n",
    "# 占位符操作\n",
    "a = tf.placeholder(tf.float32)\n",
    "b = tf.placeholder(tf.float32)\n",
    "\n",
    "add_node = a + b  # a＋ｂ与 tf.add(ａ，ｂ)相等\n",
    "\n",
    "sess = tf.Session()\n",
    "print(sess.run(add_node,{a:3, b:4.5}))\n",
    "print(sess.run(add_node,{a:[1, 2], b:[3, 4]}))\n",
    "\n",
    "add_and_triple = add_node * 3.\n",
    "print(sess.run(add_and_triple,{a:3, b:4.5}))"
   ]
  },
  {
   "cell_type": "code",
   "execution_count": 7,
   "metadata": {
    "collapsed": false
   },
   "outputs": [
    {
     "name": "stdout",
     "output_type": "stream",
     "text": [
      "[ 0.          0.30000001  0.60000002  0.90000004]\n"
     ]
    }
   ],
   "source": [
    "\n",
    "# 变量操作\n",
    "W = tf.Variable([.3], dtype=tf.float32)\n",
    "b = tf.Variable([-.3], dtype=tf.float32)\n",
    "x = tf.placeholder(tf.float32)\n",
    "\n",
    "linear_model = W * x + b\n",
    "\n",
    "# 所有变量的初始化\n",
    "init = tf.global_variables_initializer()\n",
    "sess.run(init)\n",
    "\n",
    "print(sess.run(linear_model,{x:[1,2,3,4]}))"
   ]
  },
  {
   "cell_type": "code",
   "execution_count": 13,
   "metadata": {
    "collapsed": false
   },
   "outputs": [
    {
     "name": "stdout",
     "output_type": "stream",
     "text": [
      "距离： [ 0.          1.29999995  2.5999999   3.9000001 ]\n",
      "平方： [  0.           1.68999982   6.75999928  15.21000099]\n",
      "损失： 23.66\n"
     ]
    }
   ],
   "source": [
    "y = tf.placeholder(tf.float32)\n",
    "distance = linear_model - y\n",
    "squared_deltas = tf.square(distance)\n",
    "\n",
    "loss = tf.reduce_sum(squared_deltas)\n",
    "\n",
    "print(\"距离：\",sess.run(distance,{x:[1,2,3,4],y:[0,-1,-2,-3]}))\n",
    "print(\"平方：\",sess.run(squared_deltas,{x:[1,2,3,4],y:[0,-1,-2,-3]}))\n",
    "print(\"损失：\",sess.run(loss,{x:[1,2,3,4],y:[0,-1,-2,-3]}))"
   ]
  },
  {
   "cell_type": "code",
   "execution_count": 14,
   "metadata": {
    "collapsed": false
   },
   "outputs": [
    {
     "name": "stdout",
     "output_type": "stream",
     "text": [
      "0.0\n"
     ]
    }
   ],
   "source": [
    "# 损失有点大，我们可以改变一下参数\n",
    "fixW = tf.assign(W, [-1.])  #assign函数 用来改变变量的值\n",
    "fixb = tf.assign(b, [1.])\n",
    "\n",
    "sess.run([fixW, fixb])\n",
    "print(sess.run(loss,{x:[1,2,3,4], y:[0,-1,-2,-3]}))"
   ]
  },
  {
   "cell_type": "code",
   "execution_count": null,
   "metadata": {
    "collapsed": true
   },
   "outputs": [],
   "source": []
  }
 ],
 "metadata": {
  "anaconda-cloud": {},
  "kernelspec": {
   "display_name": "Python [conda root]",
   "language": "python",
   "name": "conda-root-py"
  },
  "language_info": {
   "codemirror_mode": {
    "name": "ipython",
    "version": 3
   },
   "file_extension": ".py",
   "mimetype": "text/x-python",
   "name": "python",
   "nbconvert_exporter": "python",
   "pygments_lexer": "ipython3",
   "version": "3.5.2"
  }
 },
 "nbformat": 4,
 "nbformat_minor": 1
}
