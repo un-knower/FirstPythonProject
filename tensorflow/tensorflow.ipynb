{
 "cells": [
  {
   "cell_type": "code",
   "execution_count": 1,
   "metadata": {
    "collapsed": false
   },
   "outputs": [
    {
     "name": "stdout",
     "output_type": "stream",
     "text": [
      "b' Hello TensorFlow !'\n"
     ]
    }
   ],
   "source": [
    "import tensorflow as tf\n",
    "\n",
    "# 使用TensorFlow输出Hello\n",
    "\n",
    "# 创建一个常量操作( Constant op )\n",
    "# 这个 op 会被作为一个节点( node )添加到默认计算图上.\n",
    "#\n",
    "# 该构造函数返回的值就是常量节点(Constant op)的输出.\n",
    "hello = tf.constant(' Hello TensorFlow !')\n",
    "\n",
    "# 启动tensorflow会话\n",
    "sess = tf.Session()\n",
    "\n",
    "#运行hello节点\n",
    "print(sess.run(hello))"
   ]
  },
  {
   "cell_type": "code",
   "execution_count": 2,
   "metadata": {
    "collapsed": false
   },
   "outputs": [
    {
     "name": "stdout",
     "output_type": "stream",
     "text": [
      "a=2, b=3\n",
      "常量节点相加：5\n",
      "常量节点相乘：6\n",
      "变量相加：5\n",
      "变量相乘：6\n"
     ]
    }
   ],
   "source": [
    "# 常量操作\n",
    "a = tf.constant(2)\n",
    "b = tf.constant(3)\n",
    "\n",
    "# 启动默认计算图\n",
    "with tf.Session() as sess: # 控制sess范围\n",
    "    print(\"a=2, b=3\")\n",
    "    print(\"常量节点相加：%i\" % sess.run(a + b))\n",
    "    print(\"常量节点相乘：%i\" % sess.run(a * b))\n",
    "\n",
    "# 使用变量Variable 作为计算图的输入\n",
    "# 构造函数返回的值代表了Variable op的输出\n",
    "a = tf.placeholder(tf.int16)\n",
    "b = tf.placeholder(tf.int16)\n",
    "\n",
    "\n",
    "# 定义一些操作\n",
    "add = tf.add(a, b)\n",
    "mul = tf.multiply(a, b)\n",
    "\n",
    "# 启动默认会话\n",
    "with tf.Session() as sess:\n",
    "    print(\"变量相加：%i\" % sess.run(add, feed_dict={a: 2, b: 3}))\n",
    "    print(\"变量相乘：%i\" % sess.run(mul, feed_dict={a: 2, b: 3}))"
   ]
  },
  {
   "cell_type": "code",
   "execution_count": 4,
   "metadata": {
    "collapsed": false
   },
   "outputs": [
    {
     "name": "stdout",
     "output_type": "stream",
     "text": [
      "矩阵相乘的结果： [[ 12.]]\n"
     ]
    }
   ],
   "source": [
    "# 矩阵相乘(Matrix Multiplication)\n",
    "# 创建一个Constant op, 产生1*2 matrix\n",
    "# 该op作为一个节点被加入到默认的计算图\n",
    "matrix1 = tf.constant([[3., 3.]])\n",
    "\n",
    "#创建一个Constant op 产生2*1矩阵\n",
    "matrix2 = tf.constant([[2.],[2.]])\n",
    "\n",
    "# 创建一个Matmul op 以 matrix1 和 matrix2 作为输入\n",
    "# 返回的值 product表达了矩阵的相乘结果\n",
    "product = tf.matmul(matrix1, matrix2)\n",
    "\n",
    "# 调用 run(product) 就会引起计算图上三个节点的执行，2个constants 和一个 matmul\n",
    "# produce op的输出会返回到result 一个numpy ndarray对象\n",
    "with tf.Session() as sess:\n",
    "    result = sess.run(product)\n",
    "    print('矩阵相乘的结果：',result)\n",
    "    \n",
    "# 保存计算图\n",
    "writer = tf.summary.FileWriter(logdir='logs', graph=tf.get_default_graph())\n",
    "writer.flush()"
   ]
  },
  {
   "cell_type": "code",
   "execution_count": null,
   "metadata": {
    "collapsed": true
   },
   "outputs": [],
   "source": []
  },
  {
   "cell_type": "code",
   "execution_count": null,
   "metadata": {
    "collapsed": true
   },
   "outputs": [],
   "source": []
  },
  {
   "cell_type": "code",
   "execution_count": null,
   "metadata": {
    "collapsed": true
   },
   "outputs": [],
   "source": []
  },
  {
   "cell_type": "code",
   "execution_count": null,
   "metadata": {
    "collapsed": true
   },
   "outputs": [],
   "source": []
  },
  {
   "cell_type": "code",
   "execution_count": null,
   "metadata": {
    "collapsed": true
   },
   "outputs": [],
   "source": []
  }
 ],
 "metadata": {
  "anaconda-cloud": {},
  "kernelspec": {
   "display_name": "Python [conda root]",
   "language": "python",
   "name": "conda-root-py"
  },
  "language_info": {
   "codemirror_mode": {
    "name": "ipython",
    "version": 3
   },
   "file_extension": ".py",
   "mimetype": "text/x-python",
   "name": "python",
   "nbconvert_exporter": "python",
   "pygments_lexer": "ipython3",
   "version": "3.5.2"
  }
 },
 "nbformat": 4,
 "nbformat_minor": 1
}
