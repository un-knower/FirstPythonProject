{
 "cells": [
  {
   "cell_type": "code",
   "execution_count": 1,
   "metadata": {
    "collapsed": true
   },
   "outputs": [],
   "source": [
    "# K近邻分类模型的三个基本要素\n",
    "# 1.距离度量，2.K值得选择，3分类决策规则\n",
    "\n",
    "# 计算步骤 \n",
    "# 1.算距离：给定测试样本特征向量，计算它与训练集中每个样本特征向量的距离\n",
    "# 2.找邻居：圈定距离最近的K个训练样本，作为测试样本的近邻\n",
    "# 3.做分类：根据这K个近邻归属的主要类别，来对测试样本分类\n",
    "\n",
    "# Tensorflow 实现K近邻分类器需要以下几步：\n",
    "# 1.inference() -构建学习期模型的前向预测过程(从输入到输出的计算图路径)\n",
    "# 2.evaluate() - 在测试集上对模型的预测性能进行评估  没有loss也没有Train"
   ]
  },
  {
   "cell_type": "code",
   "execution_count": 2,
   "metadata": {
    "collapsed": false
   },
   "outputs": [
    {
     "name": "stdout",
     "output_type": "stream",
     "text": [
      "Extracting D:\\soft\\python_tools\\jupyter_notebook_dir\\tensorflow\\mnist_data\\train-images-idx3-ubyte.gz\n",
      "Extracting D:\\soft\\python_tools\\jupyter_notebook_dir\\tensorflow\\mnist_data\\train-labels-idx1-ubyte.gz\n",
      "Extracting D:\\soft\\python_tools\\jupyter_notebook_dir\\tensorflow\\mnist_data\\t10k-images-idx3-ubyte.gz\n",
      "Extracting D:\\soft\\python_tools\\jupyter_notebook_dir\\tensorflow\\mnist_data\\t10k-labels-idx1-ubyte.gz\n"
     ]
    }
   ],
   "source": [
    "import numpy as np\n",
    "import tensorflow as tf\n",
    "\n",
    "# 导入MNIST数据集\n",
    "from tensorflow.examples.tutorials.mnist import input_data\n",
    "mnist = input_data.read_data_sets(\"D:\\soft\\python_tools\\jupyter_notebook_dir\\\\tensorflow\\mnist_data\",one_hot=True)\n",
    "#mnist.shape"
   ]
  },
  {
   "cell_type": "code",
   "execution_count": 4,
   "metadata": {
    "collapsed": false
   },
   "outputs": [
    {
     "name": "stdout",
     "output_type": "stream",
     "text": [
      "Xtrain.shape： (5000, 784) Xtest.shape: (200, 784)\n",
      "Ytrain.shape： (5000, 10) Ytest.shape: (200, 10)\n"
     ]
    }
   ],
   "source": [
    "# 对MNIST数据集做一个限制\n",
    "Xtrain, Ytrain = mnist.train.next_batch(5000) #5000用于 训练\n",
    "Xtest, Ytest = mnist.test.next_batch(200)  #200 用于测试\n",
    "print('Xtrain.shape：',Xtrain.shape, 'Xtest.shape:',Xtest.shape)\n",
    "print('Ytrain.shape：',Ytrain.shape, 'Ytest.shape:',Ytest.shape)"
   ]
  },
  {
   "cell_type": "code",
   "execution_count": null,
   "metadata": {
    "collapsed": true
   },
   "outputs": [],
   "source": [
    "# 计算图输入占位符，先占个位置，可以后面再赋值"
   ]
  },
  {
   "cell_type": "code",
   "execution_count": null,
   "metadata": {
    "collapsed": true
   },
   "outputs": [],
   "source": []
  },
  {
   "cell_type": "code",
   "execution_count": null,
   "metadata": {
    "collapsed": true
   },
   "outputs": [],
   "source": []
  }
 ],
 "metadata": {
  "anaconda-cloud": {},
  "kernelspec": {
   "display_name": "Python [conda root]",
   "language": "python",
   "name": "conda-root-py"
  },
  "language_info": {
   "codemirror_mode": {
    "name": "ipython",
    "version": 3
   },
   "file_extension": ".py",
   "mimetype": "text/x-python",
   "name": "python",
   "nbconvert_exporter": "python",
   "pygments_lexer": "ipython3",
   "version": "3.5.2"
  }
 },
 "nbformat": 4,
 "nbformat_minor": 1
}
